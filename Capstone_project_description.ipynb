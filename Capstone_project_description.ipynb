{
    "cells": [
        {
            "cell_type": "markdown",
            "metadata": {
                "collapsed": true
            },
            "source": "# Capstone project Description  "
        },
        {
            "cell_type": "markdown",
            "metadata": {},
            "source": "This notebook provides an introduction to the capstone project for the Coursera/IBM specialization in Data Science. \nThe objective of this project is to solve a problem by applying data science methods on the location data from FourSquare API.\nBelow is the Link to coursera website for data science specialization.  \n[Data Science Specialization](https://www.coursera.org/specializations/ibm-data-science-professional-certificate)"
        },
        {
            "cell_type": "markdown",
            "metadata": {},
            "source": "## Decription of the Problem"
        },
        {
            "cell_type": "markdown",
            "metadata": {},
            "source": "Many people move to [Atlanta, Georgia](https://en.wikipedia.org/wiki/Atlanta) for its many attractions, tropical weather, excellent schools, employment opportunities, booming business in every neighbourhood and the excellent university system for college education.\nAtlanta is famous worldwide financial technology center and a \"tourist friendly\" city in North America. No wonder the real estate market there is one of the most affordable and provides value for the owne)rs. \nA quick search can show us the venues can vary by a large margin from neighborhoods to neighborhoods. For example, venues in midtown can cost a millions dollars and has many upscale restaurants and shops; while in suburbs like Alpharetta, Johns creek, Cumming which are just 45 minutes away, it will have cheaper housing available and more affordable restaurants and venues.\n\nSo what features of a neighborhood are similar and what are different to such extend? One hypothesis is that the surrounding venues can be a decision factor.\nAnyone who has attempted to find an home to rent or buy, has seen advertisements such as: This condo is located near the subway station, malls, supermarkets, university etc. And it's likely that the price will be higher than others with locations not as \"convenient\".\nCan the venues surrounding an accommodation effect its price? And what kind of venues can effect the most? And by what weight? We will visualize and analyse the major suburban areas in Atlanta.\n\n"
        },
        {
            "cell_type": "markdown",
            "metadata": {},
            "source": "This project will try to explore the top neighborhoods of Atlanta suburbs to see:\n\nIf the surrounding venues can effect the price of real estates\nWhat kind of surrounding venues and to what extent it can effect the price ?\nThe result can be useful for home buyers, who can roughly estimate the value of a target house over the average.\nOr to planners, who can decide which venues to place around their product, so that the price is maximized.\nOr to just any normal person to start a new business in those growing areas."
        },
        {
            "cell_type": "markdown",
            "metadata": {},
            "source": "# Description of the data and how to solve the problem"
        },
        {
            "cell_type": "markdown",
            "metadata": {},
            "source": "The main data used for this project will be from the following sources:\n\nAtlanta area neigbourhoods by zipcode - https://neighborhoodnexus.org/maps-and-data/maps/zip-code-map/\nThe average home sale price by county in Georgia - https://www.gamls.com/statistics/county?Fn=SD\nThe venues in each neighborhood. (FourSquare API)\nOther supporting data:\n\nCoordinates (Geocoder Python)\n*Note: This project will only consider the average price of deatched single family home, which is a common type of residene among most families in Atlanta area."
        },
        {
            "cell_type": "markdown",
            "metadata": {},
            "source": "### Data collection process"
        },
        {
            "cell_type": "markdown",
            "metadata": {},
            "source": "The average home prices in Georgia counties will be downloaded from the GA MLS website.\nFor the top counties in Atlanta city and its neighborhood, call Geocoder Python to get its coordinate.\nFor each neighborhood's coordinate, call FourSquare API to get the surrounding venues.\nCount the occurrences of each venue type and attach that information to each neighborhood.\nThe output of the data collecting process will be a 2 dimensions dataframe.\n\nEach row represents a neighborhood.\nEach column will be the count of one type of venue in that neighborhood.\nThe last column will be the \"desired factor\" for that neighborhood to start a new business or build a new home."
        },
        {
            "cell_type": "markdown",
            "metadata": {},
            "source": "### Using data to solve the question\n"
        },
        {
            "cell_type": "markdown",
            "metadata": {},
            "source": "First, correlation between price and surrounding venues will be checked.\nSecond, if correlated, machine learning techniques (PCA, Regression, PCR etc.) will be used to analyze the data.\nThe output will be a list of venues types that effect the most on price, along with their weight on the result."
        },
        {
            "cell_type": "code",
            "execution_count": null,
            "metadata": {},
            "outputs": [],
            "source": ""
        }
    ],
    "metadata": {
        "kernelspec": {
            "display_name": "Python 3.6",
            "language": "python",
            "name": "python3"
        },
        "language_info": {
            "codemirror_mode": {
                "name": "ipython",
                "version": 3
            },
            "file_extension": ".py",
            "mimetype": "text/x-python",
            "name": "python",
            "nbconvert_exporter": "python",
            "pygments_lexer": "ipython3",
            "version": "3.6.8"
        }
    },
    "nbformat": 4,
    "nbformat_minor": 1
}